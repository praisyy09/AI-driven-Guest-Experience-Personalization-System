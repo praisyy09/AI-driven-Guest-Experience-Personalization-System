{
  "nbformat": 4,
  "nbformat_minor": 0,
  "metadata": {
    "colab": {
      "provenance": []
    },
    "kernelspec": {
      "name": "python3",
      "display_name": "Python 3"
    },
    "language_info": {
      "name": "python"
    }
  },
  "cells": [
    {
      "cell_type": "code",
      "execution_count": null,
      "metadata": {
        "id": "goGBGLbKn8h-"
      },
      "outputs": [],
      "source": []
    },
    {
      "cell_type": "code",
      "source": [
        "import pandas as pd\n",
        "\n",
        "df = pd.read_csv('/content/Hotel_Reviews.csv')"
      ],
      "metadata": {
        "id": "uxDf4xORn_5G"
      },
      "execution_count": 8,
      "outputs": []
    },
    {
      "cell_type": "code",
      "source": [
        "# View the first few rows of the dataset\n",
        "print(df.head())\n",
        "\n",
        "# Check the shape (rows and columns) of the dataset\n",
        "print(f\"Dataset Shape: {df.shape}\")\n",
        "\n",
        "# Summary of columns and their data types\n",
        "print(df.info())\n"
      ],
      "metadata": {
        "colab": {
          "base_uri": "https://localhost:8080/"
        },
        "id": "xh52AtoPqonB",
        "outputId": "06fd72e6-83b8-4544-96b8-02590c5acd47"
      },
      "execution_count": 9,
      "outputs": [
        {
          "output_type": "stream",
          "name": "stdout",
          "text": [
            "                                       Hotel_Address  \\\n",
            "0   s Gravesandestraat 55 Oost 1092 AA Amsterdam ...   \n",
            "1   s Gravesandestraat 55 Oost 1092 AA Amsterdam ...   \n",
            "2   s Gravesandestraat 55 Oost 1092 AA Amsterdam ...   \n",
            "3   s Gravesandestraat 55 Oost 1092 AA Amsterdam ...   \n",
            "4   s Gravesandestraat 55 Oost 1092 AA Amsterdam ...   \n",
            "\n",
            "   Additional_Number_of_Scoring Review_Date  Average_Score   Hotel_Name  \\\n",
            "0                           194    8/3/2017            7.7  Hotel Arena   \n",
            "1                           194    8/3/2017            7.7  Hotel Arena   \n",
            "2                           194   7/31/2017            7.7  Hotel Arena   \n",
            "3                           194   7/31/2017            7.7  Hotel Arena   \n",
            "4                           194   7/24/2017            7.7  Hotel Arena   \n",
            "\n",
            "  Reviewer_Nationality                                    Negative_Review  \\\n",
            "0              Russia    I am so angry that i made this post available...   \n",
            "1             Ireland                                         No Negative   \n",
            "2           Australia    Rooms are nice but for elderly a bit difficul...   \n",
            "3      United Kingdom    My room was dirty and I was afraid to walk ba...   \n",
            "4         New Zealand    You When I booked with your company on line y...   \n",
            "\n",
            "   Review_Total_Negative_Word_Counts  Total_Number_of_Reviews  \\\n",
            "0                              397.0                   1403.0   \n",
            "1                                0.0                   1403.0   \n",
            "2                               42.0                   1403.0   \n",
            "3                              210.0                   1403.0   \n",
            "4                              140.0                   1403.0   \n",
            "\n",
            "                                     Positive_Review  \\\n",
            "0   Only the park outside of the hotel was beauti...   \n",
            "1   No real complaints the hotel was great great ...   \n",
            "2   Location was good and staff were ok It is cut...   \n",
            "3   Great location in nice surroundings the bar a...   \n",
            "4    Amazing location and building Romantic setting    \n",
            "\n",
            "   Review_Total_Positive_Word_Counts  \\\n",
            "0                               11.0   \n",
            "1                              105.0   \n",
            "2                               21.0   \n",
            "3                               26.0   \n",
            "4                                8.0   \n",
            "\n",
            "   Total_Number_of_Reviews_Reviewer_Has_Given  Reviewer_Score  \\\n",
            "0                                         7.0             2.9   \n",
            "1                                         7.0             7.5   \n",
            "2                                         9.0             7.1   \n",
            "3                                         1.0             3.8   \n",
            "4                                         3.0             6.7   \n",
            "\n",
            "                                                Tags days_since_review  \\\n",
            "0  [' Leisure trip ', ' Couple ', ' Duplex Double...            0 days   \n",
            "1  [' Leisure trip ', ' Couple ', ' Duplex Double...            0 days   \n",
            "2  [' Leisure trip ', ' Family with young childre...            3 days   \n",
            "3  [' Leisure trip ', ' Solo traveler ', ' Duplex...            3 days   \n",
            "4  [' Leisure trip ', ' Couple ', ' Suite ', ' St...           10 days   \n",
            "\n",
            "         lat       lng  \n",
            "0  52.360576  4.915968  \n",
            "1  52.360576  4.915968  \n",
            "2  52.360576  4.915968  \n",
            "3  52.360576  4.915968  \n",
            "4  52.360576  4.915968  \n",
            "Dataset Shape: (132874, 17)\n",
            "<class 'pandas.core.frame.DataFrame'>\n",
            "RangeIndex: 132874 entries, 0 to 132873\n",
            "Data columns (total 17 columns):\n",
            " #   Column                                      Non-Null Count   Dtype  \n",
            "---  ------                                      --------------   -----  \n",
            " 0   Hotel_Address                               132874 non-null  object \n",
            " 1   Additional_Number_of_Scoring                132874 non-null  int64  \n",
            " 2   Review_Date                                 132873 non-null  object \n",
            " 3   Average_Score                               132873 non-null  float64\n",
            " 4   Hotel_Name                                  132873 non-null  object \n",
            " 5   Reviewer_Nationality                        132873 non-null  object \n",
            " 6   Negative_Review                             132873 non-null  object \n",
            " 7   Review_Total_Negative_Word_Counts           132873 non-null  float64\n",
            " 8   Total_Number_of_Reviews                     132873 non-null  float64\n",
            " 9   Positive_Review                             132873 non-null  object \n",
            " 10  Review_Total_Positive_Word_Counts           132873 non-null  float64\n",
            " 11  Total_Number_of_Reviews_Reviewer_Has_Given  132873 non-null  float64\n",
            " 12  Reviewer_Score                              132873 non-null  float64\n",
            " 13  Tags                                        132873 non-null  object \n",
            " 14  days_since_review                           132873 non-null  object \n",
            " 15  lat                                         132781 non-null  float64\n",
            " 16  lng                                         132781 non-null  float64\n",
            "dtypes: float64(8), int64(1), object(8)\n",
            "memory usage: 17.2+ MB\n",
            "None\n"
          ]
        }
      ]
    },
    {
      "cell_type": "code",
      "source": [
        "# Check for missing values in each column\n",
        "print(df.isnull().sum())\n",
        "\n",
        "# Option 2: Fill missing values (e.g., with a default value like 0 or 'Unknown')\n",
        "df['Negative_Review'] = df['Negative_Review'].fillna('No Negative')\n",
        "df['Positive_Review'] = df['Positive_Review'].fillna('No Positive')\n",
        "\n",
        "# For numerical columns, you can fill missing values with the mean or median\n",
        "df['Reviewer_Score'] = df['Reviewer_Score'].fillna(df['Reviewer_Score'].mean())\n",
        "\n",
        "\n"
      ],
      "metadata": {
        "colab": {
          "base_uri": "https://localhost:8080/"
        },
        "id": "V-X6YUabrEzn",
        "outputId": "9fcacd1e-4e53-4cdc-ed05-c733dab3debf"
      },
      "execution_count": 10,
      "outputs": [
        {
          "output_type": "stream",
          "name": "stdout",
          "text": [
            "Hotel_Address                                  0\n",
            "Additional_Number_of_Scoring                   0\n",
            "Review_Date                                    1\n",
            "Average_Score                                  1\n",
            "Hotel_Name                                     1\n",
            "Reviewer_Nationality                           1\n",
            "Negative_Review                                1\n",
            "Review_Total_Negative_Word_Counts              1\n",
            "Total_Number_of_Reviews                        1\n",
            "Positive_Review                                1\n",
            "Review_Total_Positive_Word_Counts              1\n",
            "Total_Number_of_Reviews_Reviewer_Has_Given     1\n",
            "Reviewer_Score                                 1\n",
            "Tags                                           1\n",
            "days_since_review                              1\n",
            "lat                                           93\n",
            "lng                                           93\n",
            "dtype: int64\n"
          ]
        }
      ]
    },
    {
      "cell_type": "code",
      "source": [
        "df = df.drop(columns=['lat', 'lng'])"
      ],
      "metadata": {
        "id": "euTYmxaIrXue"
      },
      "execution_count": 11,
      "outputs": []
    },
    {
      "cell_type": "code",
      "source": [
        "print(df.head())"
      ],
      "metadata": {
        "id": "XpHThfkOrqzU",
        "outputId": "e2e97cac-f99f-449b-db38-1d5c928a48fd",
        "colab": {
          "base_uri": "https://localhost:8080/"
        }
      },
      "execution_count": 12,
      "outputs": [
        {
          "output_type": "stream",
          "name": "stdout",
          "text": [
            "                                       Hotel_Address  \\\n",
            "0   s Gravesandestraat 55 Oost 1092 AA Amsterdam ...   \n",
            "1   s Gravesandestraat 55 Oost 1092 AA Amsterdam ...   \n",
            "2   s Gravesandestraat 55 Oost 1092 AA Amsterdam ...   \n",
            "3   s Gravesandestraat 55 Oost 1092 AA Amsterdam ...   \n",
            "4   s Gravesandestraat 55 Oost 1092 AA Amsterdam ...   \n",
            "\n",
            "   Additional_Number_of_Scoring Review_Date  Average_Score   Hotel_Name  \\\n",
            "0                           194    8/3/2017            7.7  Hotel Arena   \n",
            "1                           194    8/3/2017            7.7  Hotel Arena   \n",
            "2                           194   7/31/2017            7.7  Hotel Arena   \n",
            "3                           194   7/31/2017            7.7  Hotel Arena   \n",
            "4                           194   7/24/2017            7.7  Hotel Arena   \n",
            "\n",
            "  Reviewer_Nationality                                    Negative_Review  \\\n",
            "0              Russia    I am so angry that i made this post available...   \n",
            "1             Ireland                                         No Negative   \n",
            "2           Australia    Rooms are nice but for elderly a bit difficul...   \n",
            "3      United Kingdom    My room was dirty and I was afraid to walk ba...   \n",
            "4         New Zealand    You When I booked with your company on line y...   \n",
            "\n",
            "   Review_Total_Negative_Word_Counts  Total_Number_of_Reviews  \\\n",
            "0                              397.0                   1403.0   \n",
            "1                                0.0                   1403.0   \n",
            "2                               42.0                   1403.0   \n",
            "3                              210.0                   1403.0   \n",
            "4                              140.0                   1403.0   \n",
            "\n",
            "                                     Positive_Review  \\\n",
            "0   Only the park outside of the hotel was beauti...   \n",
            "1   No real complaints the hotel was great great ...   \n",
            "2   Location was good and staff were ok It is cut...   \n",
            "3   Great location in nice surroundings the bar a...   \n",
            "4    Amazing location and building Romantic setting    \n",
            "\n",
            "   Review_Total_Positive_Word_Counts  \\\n",
            "0                               11.0   \n",
            "1                              105.0   \n",
            "2                               21.0   \n",
            "3                               26.0   \n",
            "4                                8.0   \n",
            "\n",
            "   Total_Number_of_Reviews_Reviewer_Has_Given  Reviewer_Score  \\\n",
            "0                                         7.0             2.9   \n",
            "1                                         7.0             7.5   \n",
            "2                                         9.0             7.1   \n",
            "3                                         1.0             3.8   \n",
            "4                                         3.0             6.7   \n",
            "\n",
            "                                                Tags days_since_review  \n",
            "0  [' Leisure trip ', ' Couple ', ' Duplex Double...            0 days  \n",
            "1  [' Leisure trip ', ' Couple ', ' Duplex Double...            0 days  \n",
            "2  [' Leisure trip ', ' Family with young childre...            3 days  \n",
            "3  [' Leisure trip ', ' Solo traveler ', ' Duplex...            3 days  \n",
            "4  [' Leisure trip ', ' Couple ', ' Suite ', ' St...           10 days  \n"
          ]
        }
      ]
    },
    {
      "cell_type": "code",
      "source": [
        "import pandas as pd\n",
        "df = pd.read_csv(\"/content/cleaned_hospitality_data.csv\")\n",
        "\n",
        "# Combine positive_review and negative_review into a single 'review' column\n",
        "df['review'] = df['Positive_Review'].fillna('') + ' ' + df['Negative_Review'].fillna('')\n",
        "\n",
        "# Remove leading/trailing spaces and empty reviews\n",
        "df['review'] = df['review'].str.strip()\n",
        "df = df[df['review'] != '']\n",
        "\n",
        "# Drop the original positive and negative review columns\n",
        "df = df.drop(columns=['Negative_Review', 'Positive_Review'])\n",
        "\n",
        "# Save the modified dataset to a new CSV file\n",
        "df.to_csv(\"Hotelreview.csv\", index=False)\n",
        "\n",
        "\n"
      ],
      "metadata": {
        "id": "Wbml7ZIK12Ci"
      },
      "execution_count": 15,
      "outputs": []
    }
  ]
}