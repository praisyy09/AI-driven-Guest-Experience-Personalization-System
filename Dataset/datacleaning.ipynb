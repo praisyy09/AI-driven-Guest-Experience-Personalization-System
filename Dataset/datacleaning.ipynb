{
  "nbformat": 4,
  "nbformat_minor": 0,
  "metadata": {
    "colab": {
      "provenance": []
    },
    "kernelspec": {
      "name": "python3",
      "display_name": "Python 3"
    },
    "language_info": {
      "name": "python"
    }
  },
  "cells": [
    {
      "cell_type": "code",
      "execution_count": null,
      "metadata": {
        "id": "goGBGLbKn8h-"
      },
      "outputs": [],
      "source": []
    },
    {
      "cell_type": "code",
      "source": [
        "import pandas as pd\n",
        "\n",
        "df = pd.read_csv('/content/Hotel_Reviews.csv')"
      ],
      "metadata": {
        "id": "uxDf4xORn_5G"
      },
      "execution_count": 17,
      "outputs": []
    },
    {
      "cell_type": "code",
      "source": [
        "# View the first few rows of the dataset\n",
        "print(df.head())\n",
        "\n",
        "# Check the shape (rows and columns) of the dataset\n",
        "print(f\"Dataset Shape: {df.shape}\")\n",
        "\n",
        "# Summary of columns and their data types\n",
        "print(df.info())\n"
      ],
      "metadata": {
        "colab": {
          "base_uri": "https://localhost:8080/",
          "height": 0
        },
        "id": "xh52AtoPqonB",
        "outputId": "cf03e679-6b31-47bc-a1f3-881d05d6a771"
      },
      "execution_count": 13,
      "outputs": [
        {
          "output_type": "stream",
          "name": "stdout",
          "text": [
            "                                       Hotel_Address  \\\n",
            "0   s Gravesandestraat 55 Oost 1092 AA Amsterdam ...   \n",
            "1   s Gravesandestraat 55 Oost 1092 AA Amsterdam ...   \n",
            "2   s Gravesandestraat 55 Oost 1092 AA Amsterdam ...   \n",
            "3   s Gravesandestraat 55 Oost 1092 AA Amsterdam ...   \n",
            "4   s Gravesandestraat 55 Oost 1092 AA Amsterdam ...   \n",
            "\n",
            "   Additional_Number_of_Scoring Review_Date  Average_Score   Hotel_Name  \\\n",
            "0                           194    8/3/2017            7.7  Hotel Arena   \n",
            "1                           194    8/3/2017            7.7  Hotel Arena   \n",
            "2                           194   7/31/2017            7.7  Hotel Arena   \n",
            "3                           194   7/31/2017            7.7  Hotel Arena   \n",
            "4                           194   7/24/2017            7.7  Hotel Arena   \n",
            "\n",
            "  Reviewer_Nationality                                    Negative_Review  \\\n",
            "0              Russia    I am so angry that i made this post available...   \n",
            "1             Ireland                                         No Negative   \n",
            "2           Australia    Rooms are nice but for elderly a bit difficul...   \n",
            "3      United Kingdom    My room was dirty and I was afraid to walk ba...   \n",
            "4         New Zealand    You When I booked with your company on line y...   \n",
            "\n",
            "   Review_Total_Negative_Word_Counts  Total_Number_of_Reviews  \\\n",
            "0                                397                     1403   \n",
            "1                                  0                     1403   \n",
            "2                                 42                     1403   \n",
            "3                                210                     1403   \n",
            "4                                140                     1403   \n",
            "\n",
            "                                     Positive_Review  \\\n",
            "0   Only the park outside of the hotel was beauti...   \n",
            "1   No real complaints the hotel was great great ...   \n",
            "2   Location was good and staff were ok It is cut...   \n",
            "3   Great location in nice surroundings the bar a...   \n",
            "4    Amazing location and building Romantic setting    \n",
            "\n",
            "   Review_Total_Positive_Word_Counts  \\\n",
            "0                                 11   \n",
            "1                                105   \n",
            "2                                 21   \n",
            "3                                 26   \n",
            "4                                  8   \n",
            "\n",
            "   Total_Number_of_Reviews_Reviewer_Has_Given  Reviewer_Score  \\\n",
            "0                                           7             2.9   \n",
            "1                                           7             7.5   \n",
            "2                                           9             7.1   \n",
            "3                                           1             3.8   \n",
            "4                                           3             6.7   \n",
            "\n",
            "                                                Tags days_since_review  \\\n",
            "0  [' Leisure trip ', ' Couple ', ' Duplex Double...            0 days   \n",
            "1  [' Leisure trip ', ' Couple ', ' Duplex Double...            0 days   \n",
            "2  [' Leisure trip ', ' Family with young childre...            3 days   \n",
            "3  [' Leisure trip ', ' Solo traveler ', ' Duplex...            3 days   \n",
            "4  [' Leisure trip ', ' Couple ', ' Suite ', ' St...           10 days   \n",
            "\n",
            "         lat       lng  \n",
            "0  52.360576  4.915968  \n",
            "1  52.360576  4.915968  \n",
            "2  52.360576  4.915968  \n",
            "3  52.360576  4.915968  \n",
            "4  52.360576  4.915968  \n",
            "Dataset Shape: (515738, 17)\n",
            "<class 'pandas.core.frame.DataFrame'>\n",
            "RangeIndex: 515738 entries, 0 to 515737\n",
            "Data columns (total 17 columns):\n",
            " #   Column                                      Non-Null Count   Dtype  \n",
            "---  ------                                      --------------   -----  \n",
            " 0   Hotel_Address                               515738 non-null  object \n",
            " 1   Additional_Number_of_Scoring                515738 non-null  int64  \n",
            " 2   Review_Date                                 515738 non-null  object \n",
            " 3   Average_Score                               515738 non-null  float64\n",
            " 4   Hotel_Name                                  515738 non-null  object \n",
            " 5   Reviewer_Nationality                        515738 non-null  object \n",
            " 6   Negative_Review                             515738 non-null  object \n",
            " 7   Review_Total_Negative_Word_Counts           515738 non-null  int64  \n",
            " 8   Total_Number_of_Reviews                     515738 non-null  int64  \n",
            " 9   Positive_Review                             515738 non-null  object \n",
            " 10  Review_Total_Positive_Word_Counts           515738 non-null  int64  \n",
            " 11  Total_Number_of_Reviews_Reviewer_Has_Given  515738 non-null  int64  \n",
            " 12  Reviewer_Score                              515738 non-null  float64\n",
            " 13  Tags                                        515738 non-null  object \n",
            " 14  days_since_review                           515738 non-null  object \n",
            " 15  lat                                         512470 non-null  float64\n",
            " 16  lng                                         512470 non-null  float64\n",
            "dtypes: float64(4), int64(5), object(8)\n",
            "memory usage: 66.9+ MB\n",
            "None\n"
          ]
        }
      ]
    },
    {
      "cell_type": "code",
      "source": [
        "# Check for missing values in each column\n",
        "print(df.isnull().sum())\n",
        "\n",
        "# Option 2: Fill missing values (e.g., with a default value like 0 or 'Unknown')\n",
        "df['Negative_Review'] = df['Negative_Review'].fillna('No Negative')\n",
        "df['Positive_Review'] = df['Positive_Review'].fillna('No Positive')\n",
        "\n",
        "# For numerical columns, you can fill missing values with the mean or median\n",
        "df['Reviewer_Score'] = df['Reviewer_Score'].fillna(df['Reviewer_Score'].mean())\n",
        "\n",
        "\n"
      ],
      "metadata": {
        "colab": {
          "base_uri": "https://localhost:8080/",
          "height": 0
        },
        "id": "V-X6YUabrEzn",
        "outputId": "55febf67-b40f-4512-eca2-5da57245802c"
      },
      "execution_count": 14,
      "outputs": [
        {
          "output_type": "stream",
          "name": "stdout",
          "text": [
            "Hotel_Address                                    0\n",
            "Additional_Number_of_Scoring                     0\n",
            "Review_Date                                      0\n",
            "Average_Score                                    0\n",
            "Hotel_Name                                       0\n",
            "Reviewer_Nationality                             0\n",
            "Negative_Review                                  0\n",
            "Review_Total_Negative_Word_Counts                0\n",
            "Total_Number_of_Reviews                          0\n",
            "Positive_Review                                  0\n",
            "Review_Total_Positive_Word_Counts                0\n",
            "Total_Number_of_Reviews_Reviewer_Has_Given       0\n",
            "Reviewer_Score                                   0\n",
            "Tags                                             0\n",
            "days_since_review                                0\n",
            "lat                                           3268\n",
            "lng                                           3268\n",
            "dtype: int64\n"
          ]
        }
      ]
    },
    {
      "cell_type": "code",
      "source": [
        "df = df.drop(columns=['lat', 'lng'])"
      ],
      "metadata": {
        "id": "euTYmxaIrXue"
      },
      "execution_count": 15,
      "outputs": []
    },
    {
      "cell_type": "code",
      "source": [
        "print(df.head())"
      ],
      "metadata": {
        "colab": {
          "base_uri": "https://localhost:8080/",
          "height": 0
        },
        "id": "XpHThfkOrqzU",
        "outputId": "e2cc7e59-5457-44aa-afd3-7bfbea963508"
      },
      "execution_count": 10,
      "outputs": [
        {
          "output_type": "stream",
          "name": "stdout",
          "text": [
            "                                       Hotel_Address  \\\n",
            "0   s Gravesandestraat 55 Oost 1092 AA Amsterdam ...   \n",
            "1   s Gravesandestraat 55 Oost 1092 AA Amsterdam ...   \n",
            "2   s Gravesandestraat 55 Oost 1092 AA Amsterdam ...   \n",
            "3   s Gravesandestraat 55 Oost 1092 AA Amsterdam ...   \n",
            "4   s Gravesandestraat 55 Oost 1092 AA Amsterdam ...   \n",
            "\n",
            "   Additional_Number_of_Scoring Review_Date  Average_Score   Hotel_Name  \\\n",
            "0                           194    8/3/2017            7.7  Hotel Arena   \n",
            "1                           194    8/3/2017            7.7  Hotel Arena   \n",
            "2                           194   7/31/2017            7.7  Hotel Arena   \n",
            "3                           194   7/31/2017            7.7  Hotel Arena   \n",
            "4                           194   7/24/2017            7.7  Hotel Arena   \n",
            "\n",
            "  Reviewer_Nationality                                    Negative_Review  \\\n",
            "0              Russia    I am so angry that i made this post available...   \n",
            "1             Ireland                                         No Negative   \n",
            "2           Australia    Rooms are nice but for elderly a bit difficul...   \n",
            "3      United Kingdom    My room was dirty and I was afraid to walk ba...   \n",
            "4         New Zealand    You When I booked with your company on line y...   \n",
            "\n",
            "   Review_Total_Negative_Word_Counts  Total_Number_of_Reviews  \\\n",
            "0                                397                     1403   \n",
            "1                                  0                     1403   \n",
            "2                                 42                     1403   \n",
            "3                                210                     1403   \n",
            "4                                140                     1403   \n",
            "\n",
            "                                     Positive_Review  \\\n",
            "0   Only the park outside of the hotel was beauti...   \n",
            "1   No real complaints the hotel was great great ...   \n",
            "2   Location was good and staff were ok It is cut...   \n",
            "3   Great location in nice surroundings the bar a...   \n",
            "4    Amazing location and building Romantic setting    \n",
            "\n",
            "   Review_Total_Positive_Word_Counts  \\\n",
            "0                               11.0   \n",
            "1                              105.0   \n",
            "2                               21.0   \n",
            "3                               26.0   \n",
            "4                                8.0   \n",
            "\n",
            "   Total_Number_of_Reviews_Reviewer_Has_Given  Reviewer_Score  \\\n",
            "0                                         7.0             2.9   \n",
            "1                                         7.0             7.5   \n",
            "2                                         9.0             7.1   \n",
            "3                                         1.0             3.8   \n",
            "4                                         3.0             6.7   \n",
            "\n",
            "                                                Tags days_since_review  \n",
            "0  [' Leisure trip ', ' Couple ', ' Duplex Double...            0 days  \n",
            "1  [' Leisure trip ', ' Couple ', ' Duplex Double...            0 days  \n",
            "2  [' Leisure trip ', ' Family with young childre...            3 days  \n",
            "3  [' Leisure trip ', ' Solo traveler ', ' Duplex...            3 days  \n",
            "4  [' Leisure trip ', ' Couple ', ' Suite ', ' St...           10 days  \n"
          ]
        }
      ]
    },
    {
      "cell_type": "code",
      "source": [
        "# Save the cleaned dataset to a new CSV file\n",
        "df_cleaned.to_csv('cleaned_hospitality_data.csv', index=False)\n"
      ],
      "metadata": {
        "id": "PU-jvyPrr4Ho"
      },
      "execution_count": 16,
      "outputs": []
    }
  ]
}